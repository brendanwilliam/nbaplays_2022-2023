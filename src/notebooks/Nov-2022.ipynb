{
 "cells": [
  {
   "cell_type": "markdown",
   "metadata": {},
   "source": [
    "# **November 8, 2022**\n",
    "Working on using [Beautiful Soup](https://beautiful-soup-4.readthedocs.io/en/latest/) to extract *JSON data* from [NBA.com](https://www.nba.com/schedule?cal=0&pd=false&region=1). These data will be scraped for the *Shot Mesh* project."
   ]
  },
  {
   "cell_type": "code",
   "execution_count": 2,
   "metadata": {},
   "outputs": [],
   "source": [
    "# Importing packages\n",
    "from bs4 import BeautifulSoup\n",
    "import requests\n",
    "import json"
   ]
  },
  {
   "cell_type": "code",
   "execution_count": 3,
   "metadata": {},
   "outputs": [],
   "source": [
    "# Requesting webpage\n",
    "gamepage = requests.get('https://www.nba.com/game/den-vs-gsw-0022200026/game-charts')"
   ]
  },
  {
   "cell_type": "code",
   "execution_count": 4,
   "metadata": {},
   "outputs": [],
   "source": [
    "# Turning it into soup\n",
    "gamesoup = BeautifulSoup(gamepage.text, 'lxml')"
   ]
  },
  {
   "cell_type": "markdown",
   "metadata": {},
   "source": [
    "### Content tag for shot data\n",
    "`<script id=\"__NEXT_DATA__\" type=\"application/json\">`"
   ]
  },
  {
   "cell_type": "code",
   "execution_count": 5,
   "metadata": {},
   "outputs": [],
   "source": [
    "gamescript = gamesoup.find(id='__NEXT_DATA__')"
   ]
  },
  {
   "cell_type": "code",
   "execution_count": 6,
   "metadata": {},
   "outputs": [],
   "source": [
    "# New variable containing the script content\n",
    "gamejson = json.loads(gamescript.text)\n",
    "\n",
    "# FOR LATER... DESIRED FORMAT FOR EXPORTING JSON FILES\n",
    "# json_obj = json.dumps(gamejson, indent=4)\n",
    "# with open(\"gamedata.json\", \"w\") as outfile:\n",
    "#   outfile.write(json_obj)\n"
   ]
  },
  {
   "cell_type": "markdown",
   "metadata": {},
   "source": [
    "# **November 9, 2022**\n",
    "Converting the *text* inside `id='__NEXT_DATA__'` into a more usable data format. \n",
    "\n",
    "### **Arguments for JSON**\n",
    "The origional data is in this format. This structure also provides high levels of data structure flexability, which could be advantagous when converting from `JSON` to a *Python-specific class*.\n",
    "\n",
    "### **Arguments for CSV**\n",
    "This structure is more accessible for other parties. Based on the complexity of my drafted data strictures, I believe that a `CSV` can capture all relevant information without substantial redundancies."
   ]
  },
  {
   "cell_type": "code",
   "execution_count": 7,
   "metadata": {},
   "outputs": [],
   "source": [
    "# New variable for ONLY play-by-play data\n",
    "pbp = gamejson['props']['pageProps']['playByPlay']['actions']\n",
    "\n",
    "# Saving data to JSON\n",
    "json_obj = json.dumps(pbp, indent=4)\n",
    "with open(\"gamedata.json\", \"w\") as outfile:\n",
    "  outfile.write(json_obj)"
   ]
  },
  {
   "cell_type": "code",
   "execution_count": 8,
   "metadata": {},
   "outputs": [],
   "source": [
    "# Starting to work with pandas\n",
    "import pandas as pd\n",
    "pbp_df = pd.read_json(\"gamedata.json\")"
   ]
  },
  {
   "cell_type": "code",
   "execution_count": 9,
   "metadata": {},
   "outputs": [
    {
     "data": {
      "text/plain": [
       "array(['period', 'Jump Ball', 'Made Shot', 'Missed Shot', 'Rebound',\n",
       "       'Turnover', 'Foul', '', 'Violation', 'Free Throw', 'Substitution',\n",
       "       'Timeout', 'Instant Replay'], dtype=object)"
      ]
     },
     "execution_count": 9,
     "metadata": {},
     "output_type": "execute_result"
    }
   ],
   "source": [
    "action_type = pbp_df['actionType']\n",
    "action_type.unique()"
   ]
  },
  {
   "cell_type": "markdown",
   "metadata": {},
   "source": [
    "### Notes about *actionType*\n",
    "While I believe only rows with *Made Shot*, *Missed Shot*, and *Free Throw* action types will be important, I need to verify that no other action types contain positional data (seen as non-zero values in `xLegacy` and `yLegacy`)."
   ]
  },
  {
   "cell_type": "code",
   "execution_count": 10,
   "metadata": {},
   "outputs": [
    {
     "data": {
      "text/plain": [
       "array(['Made Shot', 'Missed Shot'], dtype=object)"
      ]
     },
     "execution_count": 10,
     "metadata": {},
     "output_type": "execute_result"
    }
   ],
   "source": [
    "# Showing all action types for non-zero court positions\n",
    "pbp_df[(pbp_df['xLegacy'] != 0) & (pbp_df['yLegacy'] != 0)]['actionType'].unique()"
   ]
  },
  {
   "cell_type": "code",
   "execution_count": 11,
   "metadata": {},
   "outputs": [
    {
     "name": "stdout",
     "output_type": "stream",
     "text": [
      "MAX actionId: \t503\n",
      "MIN actionId: \t1\n",
      "MAX actionNumber: \t696\n",
      "MIN actionNumber: \t2\n"
     ]
    }
   ],
   "source": [
    "# Identifying the range of actionId and actionNumber\n",
    "print('MAX actionId: \\t' + str(pbp_df.actionId.max()))\n",
    "print('MIN actionId: \\t' + str(pbp_df.actionId.min()))\n",
    "print('MAX actionNumber: \\t' + str(pbp_df.actionNumber.max()))\n",
    "print('MIN actionNumber: \\t' + str(pbp_df.actionNumber.min()))"
   ]
  },
  {
   "cell_type": "markdown",
   "metadata": {},
   "source": [
    "### Notes about *FT* vs. *FG*\n",
    "There appears to be no numeric link between a *FG* and a *FT* besides the time in the `clock` column. "
   ]
  },
  {
   "cell_type": "code",
   "execution_count": 12,
   "metadata": {},
   "outputs": [
    {
     "data": {
      "text/html": [
       "<div>\n",
       "<style scoped>\n",
       "    .dataframe tbody tr th:only-of-type {\n",
       "        vertical-align: middle;\n",
       "    }\n",
       "\n",
       "    .dataframe tbody tr th {\n",
       "        vertical-align: top;\n",
       "    }\n",
       "\n",
       "    .dataframe thead th {\n",
       "        text-align: right;\n",
       "    }\n",
       "</style>\n",
       "<table border=\"1\" class=\"dataframe\">\n",
       "  <thead>\n",
       "    <tr style=\"text-align: right;\">\n",
       "      <th></th>\n",
       "      <th>actionNumber</th>\n",
       "      <th>clock</th>\n",
       "      <th>period</th>\n",
       "      <th>teamId</th>\n",
       "      <th>teamTricode</th>\n",
       "      <th>personId</th>\n",
       "      <th>playerName</th>\n",
       "      <th>playerNameI</th>\n",
       "      <th>xLegacy</th>\n",
       "      <th>yLegacy</th>\n",
       "      <th>...</th>\n",
       "      <th>isFieldGoal</th>\n",
       "      <th>scoreHome</th>\n",
       "      <th>scoreAway</th>\n",
       "      <th>pointsTotal</th>\n",
       "      <th>location</th>\n",
       "      <th>description</th>\n",
       "      <th>actionType</th>\n",
       "      <th>subType</th>\n",
       "      <th>videoAvailable</th>\n",
       "      <th>actionId</th>\n",
       "    </tr>\n",
       "  </thead>\n",
       "  <tbody>\n",
       "    <tr>\n",
       "      <th>63</th>\n",
       "      <td>93</td>\n",
       "      <td>PT05M03.00S</td>\n",
       "      <td>1</td>\n",
       "      <td>1610612744</td>\n",
       "      <td>GSW</td>\n",
       "      <td>201939</td>\n",
       "      <td>Curry</td>\n",
       "      <td>S. Curry</td>\n",
       "      <td>0</td>\n",
       "      <td>0</td>\n",
       "      <td>...</td>\n",
       "      <td>0</td>\n",
       "      <td>21</td>\n",
       "      <td>22</td>\n",
       "      <td>43</td>\n",
       "      <td>h</td>\n",
       "      <td>Curry Free Throw 1 of 3 (7 PTS)</td>\n",
       "      <td>Free Throw</td>\n",
       "      <td>Free Throw 1 of 3</td>\n",
       "      <td>1</td>\n",
       "      <td>64</td>\n",
       "    </tr>\n",
       "    <tr>\n",
       "      <th>64</th>\n",
       "      <td>94</td>\n",
       "      <td>PT05M03.00S</td>\n",
       "      <td>1</td>\n",
       "      <td>1610612744</td>\n",
       "      <td>GSW</td>\n",
       "      <td>201939</td>\n",
       "      <td>Curry</td>\n",
       "      <td>S. Curry</td>\n",
       "      <td>0</td>\n",
       "      <td>0</td>\n",
       "      <td>...</td>\n",
       "      <td>0</td>\n",
       "      <td>22</td>\n",
       "      <td>22</td>\n",
       "      <td>44</td>\n",
       "      <td>h</td>\n",
       "      <td>Curry Free Throw 2 of 3 (8 PTS)</td>\n",
       "      <td>Free Throw</td>\n",
       "      <td>Free Throw 2 of 3</td>\n",
       "      <td>1</td>\n",
       "      <td>65</td>\n",
       "    </tr>\n",
       "    <tr>\n",
       "      <th>65</th>\n",
       "      <td>95</td>\n",
       "      <td>PT05M03.00S</td>\n",
       "      <td>1</td>\n",
       "      <td>1610612744</td>\n",
       "      <td>GSW</td>\n",
       "      <td>201939</td>\n",
       "      <td>Curry</td>\n",
       "      <td>S. Curry</td>\n",
       "      <td>0</td>\n",
       "      <td>0</td>\n",
       "      <td>...</td>\n",
       "      <td>0</td>\n",
       "      <td>23</td>\n",
       "      <td>22</td>\n",
       "      <td>45</td>\n",
       "      <td>h</td>\n",
       "      <td>Curry Free Throw 3 of 3 (9 PTS)</td>\n",
       "      <td>Free Throw</td>\n",
       "      <td>Free Throw 3 of 3</td>\n",
       "      <td>0</td>\n",
       "      <td>66</td>\n",
       "    </tr>\n",
       "  </tbody>\n",
       "</table>\n",
       "<p>3 rows × 22 columns</p>\n",
       "</div>"
      ],
      "text/plain": [
       "    actionNumber        clock  period      teamId teamTricode  personId  \\\n",
       "63            93  PT05M03.00S       1  1610612744         GSW    201939   \n",
       "64            94  PT05M03.00S       1  1610612744         GSW    201939   \n",
       "65            95  PT05M03.00S       1  1610612744         GSW    201939   \n",
       "\n",
       "   playerName playerNameI  xLegacy  yLegacy  ...  isFieldGoal scoreHome  \\\n",
       "63      Curry    S. Curry        0        0  ...            0        21   \n",
       "64      Curry    S. Curry        0        0  ...            0        22   \n",
       "65      Curry    S. Curry        0        0  ...            0        23   \n",
       "\n",
       "    scoreAway pointsTotal location                      description  \\\n",
       "63         22          43        h  Curry Free Throw 1 of 3 (7 PTS)   \n",
       "64         22          44        h  Curry Free Throw 2 of 3 (8 PTS)   \n",
       "65         22          45        h  Curry Free Throw 3 of 3 (9 PTS)   \n",
       "\n",
       "    actionType            subType videoAvailable actionId  \n",
       "63  Free Throw  Free Throw 1 of 3              1       64  \n",
       "64  Free Throw  Free Throw 2 of 3              1       65  \n",
       "65  Free Throw  Free Throw 3 of 3              0       66  \n",
       "\n",
       "[3 rows x 22 columns]"
      ]
     },
     "execution_count": 12,
     "metadata": {},
     "output_type": "execute_result"
    }
   ],
   "source": [
    "# Helper functions for searching through column values\n",
    "def searchColRange(df, col, min, max):\n",
    "  if max == -1:\n",
    "    return df[df[col] > min]\n",
    "\n",
    "  return df[(df[col] >= min) & (df[col] <= max)]\n",
    "\n",
    "def searchActionId(df, min = 1, max = -1):\n",
    "  return searchColRange(df, 'actionId', min, max)\n",
    "\n",
    "def searchActionNumber(df, min = 1, max = -1):\n",
    "  return searchColRange(df, 'actionNumber', min, max)\n",
    "\n",
    "searchActionNumber(pbp_df, 93, 95)\n"
   ]
  },
  {
   "cell_type": "code",
   "execution_count": 13,
   "metadata": {},
   "outputs": [
    {
     "data": {
      "text/html": [
       "<div>\n",
       "<style scoped>\n",
       "    .dataframe tbody tr th:only-of-type {\n",
       "        vertical-align: middle;\n",
       "    }\n",
       "\n",
       "    .dataframe tbody tr th {\n",
       "        vertical-align: top;\n",
       "    }\n",
       "\n",
       "    .dataframe thead th {\n",
       "        text-align: right;\n",
       "    }\n",
       "</style>\n",
       "<table border=\"1\" class=\"dataframe\">\n",
       "  <thead>\n",
       "    <tr style=\"text-align: right;\">\n",
       "      <th></th>\n",
       "      <th>actionNumber</th>\n",
       "      <th>clock</th>\n",
       "      <th>period</th>\n",
       "      <th>teamId</th>\n",
       "      <th>teamTricode</th>\n",
       "      <th>personId</th>\n",
       "      <th>playerName</th>\n",
       "      <th>playerNameI</th>\n",
       "      <th>xLegacy</th>\n",
       "      <th>yLegacy</th>\n",
       "      <th>...</th>\n",
       "      <th>isFieldGoal</th>\n",
       "      <th>scoreHome</th>\n",
       "      <th>scoreAway</th>\n",
       "      <th>pointsTotal</th>\n",
       "      <th>location</th>\n",
       "      <th>description</th>\n",
       "      <th>actionType</th>\n",
       "      <th>subType</th>\n",
       "      <th>videoAvailable</th>\n",
       "      <th>actionId</th>\n",
       "    </tr>\n",
       "  </thead>\n",
       "  <tbody>\n",
       "    <tr>\n",
       "      <th>20</th>\n",
       "      <td>32</td>\n",
       "      <td>PT09M14.00S</td>\n",
       "      <td>1</td>\n",
       "      <td>1610612744</td>\n",
       "      <td>GSW</td>\n",
       "      <td>201939</td>\n",
       "      <td>Curry</td>\n",
       "      <td>S. Curry</td>\n",
       "      <td>0</td>\n",
       "      <td>0</td>\n",
       "      <td>...</td>\n",
       "      <td>0</td>\n",
       "      <td>9</td>\n",
       "      <td>10</td>\n",
       "      <td>19</td>\n",
       "      <td>h</td>\n",
       "      <td>Curry Free Throw 1 of 1 (4 PTS)</td>\n",
       "      <td>Free Throw</td>\n",
       "      <td>Free Throw 1 of 1</td>\n",
       "      <td>1</td>\n",
       "      <td>21</td>\n",
       "    </tr>\n",
       "    <tr>\n",
       "      <th>382</th>\n",
       "      <td>530</td>\n",
       "      <td>PT10M19.00S</td>\n",
       "      <td>4</td>\n",
       "      <td>1610612744</td>\n",
       "      <td>GSW</td>\n",
       "      <td>203952</td>\n",
       "      <td>Wiggins</td>\n",
       "      <td>A. Wiggins</td>\n",
       "      <td>0</td>\n",
       "      <td>0</td>\n",
       "      <td>...</td>\n",
       "      <td>0</td>\n",
       "      <td></td>\n",
       "      <td></td>\n",
       "      <td>0</td>\n",
       "      <td>h</td>\n",
       "      <td>MISS Wiggins Free Throw 1 of 1</td>\n",
       "      <td>Free Throw</td>\n",
       "      <td>Free Throw 1 of 1</td>\n",
       "      <td>1</td>\n",
       "      <td>383</td>\n",
       "    </tr>\n",
       "    <tr>\n",
       "      <th>398</th>\n",
       "      <td>551</td>\n",
       "      <td>PT09M18.00S</td>\n",
       "      <td>4</td>\n",
       "      <td>1610612744</td>\n",
       "      <td>GSW</td>\n",
       "      <td>1630164</td>\n",
       "      <td>Wiseman</td>\n",
       "      <td>J. Wiseman</td>\n",
       "      <td>0</td>\n",
       "      <td>0</td>\n",
       "      <td>...</td>\n",
       "      <td>0</td>\n",
       "      <td>93</td>\n",
       "      <td>103</td>\n",
       "      <td>196</td>\n",
       "      <td>h</td>\n",
       "      <td>Wiseman Free Throw 1 of 1 (11 PTS)</td>\n",
       "      <td>Free Throw</td>\n",
       "      <td>Free Throw 1 of 1</td>\n",
       "      <td>1</td>\n",
       "      <td>399</td>\n",
       "    </tr>\n",
       "    <tr>\n",
       "      <th>446</th>\n",
       "      <td>616</td>\n",
       "      <td>PT04M21.00S</td>\n",
       "      <td>4</td>\n",
       "      <td>1610612743</td>\n",
       "      <td>DEN</td>\n",
       "      <td>203999</td>\n",
       "      <td>Jokic</td>\n",
       "      <td>N. Jokic</td>\n",
       "      <td>0</td>\n",
       "      <td>0</td>\n",
       "      <td>...</td>\n",
       "      <td>0</td>\n",
       "      <td>105</td>\n",
       "      <td>114</td>\n",
       "      <td>219</td>\n",
       "      <td>v</td>\n",
       "      <td>Jokic Free Throw 1 of 1 (22 PTS)</td>\n",
       "      <td>Free Throw</td>\n",
       "      <td>Free Throw 1 of 1</td>\n",
       "      <td>1</td>\n",
       "      <td>447</td>\n",
       "    </tr>\n",
       "  </tbody>\n",
       "</table>\n",
       "<p>4 rows × 22 columns</p>\n",
       "</div>"
      ],
      "text/plain": [
       "     actionNumber        clock  period      teamId teamTricode  personId  \\\n",
       "20             32  PT09M14.00S       1  1610612744         GSW    201939   \n",
       "382           530  PT10M19.00S       4  1610612744         GSW    203952   \n",
       "398           551  PT09M18.00S       4  1610612744         GSW   1630164   \n",
       "446           616  PT04M21.00S       4  1610612743         DEN    203999   \n",
       "\n",
       "    playerName playerNameI  xLegacy  yLegacy  ...  isFieldGoal scoreHome  \\\n",
       "20       Curry    S. Curry        0        0  ...            0         9   \n",
       "382    Wiggins  A. Wiggins        0        0  ...            0             \n",
       "398    Wiseman  J. Wiseman        0        0  ...            0        93   \n",
       "446      Jokic    N. Jokic        0        0  ...            0       105   \n",
       "\n",
       "     scoreAway pointsTotal location                         description  \\\n",
       "20          10          19        h     Curry Free Throw 1 of 1 (4 PTS)   \n",
       "382                      0        h      MISS Wiggins Free Throw 1 of 1   \n",
       "398        103         196        h  Wiseman Free Throw 1 of 1 (11 PTS)   \n",
       "446        114         219        v    Jokic Free Throw 1 of 1 (22 PTS)   \n",
       "\n",
       "     actionType            subType videoAvailable actionId  \n",
       "20   Free Throw  Free Throw 1 of 1              1       21  \n",
       "382  Free Throw  Free Throw 1 of 1              1      383  \n",
       "398  Free Throw  Free Throw 1 of 1              1      399  \n",
       "446  Free Throw  Free Throw 1 of 1              1      447  \n",
       "\n",
       "[4 rows x 22 columns]"
      ]
     },
     "execution_count": 13,
     "metadata": {},
     "output_type": "execute_result"
    }
   ],
   "source": [
    "# Seeing how 'Free Throw' is documented\n",
    "pbp_df[pbp_df['subType'] == 'Free Throw 1 of 1']"
   ]
  },
  {
   "cell_type": "markdown",
   "metadata": {},
   "source": [
    "### Notes about **actionType == 'Free Throw'**\n",
    "Free throw **makes** include `scoreHome`, `scoreAway`, and `pointsTotal` values. Free throw **misses** have *NULL* values in the aformentioned columns. Although it would be ideal to include **FTM** and **FTA** in this dataset, isolated free-throws (meaning no and-1 opportunity) do not include `xLegacy` and `yLegacy` values.\n",
    "\n",
    "### Key insights\n",
    "1. In these data, `subType == 'Free Throw 1 of 1'` indicates that **the free throw is an and-1 opportunity**\n",
    "2. Important data is stored in...\n",
    "    1. `actionType == 'Missed Shot'`\n",
    "    2. `actionType == 'Made Shot'`\n",
    "    3. `subType == 'Free Throw 1 of 1'`."
   ]
  },
  {
   "cell_type": "code",
   "execution_count": 14,
   "metadata": {},
   "outputs": [],
   "source": [
    "# Fucntion that selects the rows necessary for Shotmesh data\n",
    "def getScoreData(df):\n",
    "  return df[(df['actionType'] == 'Made Shot') | (df['actionType'] == 'Missed Shot') | (df['subType'] == 'Free Throw 1 of 1')]\n",
    "\n",
    "score = getScoreData(pbp_df)"
   ]
  },
  {
   "cell_type": "code",
   "execution_count": 15,
   "metadata": {},
   "outputs": [
    {
     "data": {
      "text/html": [
       "<div>\n",
       "<style scoped>\n",
       "    .dataframe tbody tr th:only-of-type {\n",
       "        vertical-align: middle;\n",
       "    }\n",
       "\n",
       "    .dataframe tbody tr th {\n",
       "        vertical-align: top;\n",
       "    }\n",
       "\n",
       "    .dataframe thead th {\n",
       "        text-align: right;\n",
       "    }\n",
       "</style>\n",
       "<table border=\"1\" class=\"dataframe\">\n",
       "  <thead>\n",
       "    <tr style=\"text-align: right;\">\n",
       "      <th></th>\n",
       "      <th>actionNumber</th>\n",
       "      <th>clock</th>\n",
       "      <th>period</th>\n",
       "      <th>teamId</th>\n",
       "      <th>teamTricode</th>\n",
       "      <th>personId</th>\n",
       "      <th>playerName</th>\n",
       "      <th>playerNameI</th>\n",
       "      <th>xLegacy</th>\n",
       "      <th>yLegacy</th>\n",
       "      <th>...</th>\n",
       "      <th>isFieldGoal</th>\n",
       "      <th>scoreHome</th>\n",
       "      <th>scoreAway</th>\n",
       "      <th>pointsTotal</th>\n",
       "      <th>location</th>\n",
       "      <th>description</th>\n",
       "      <th>actionType</th>\n",
       "      <th>subType</th>\n",
       "      <th>videoAvailable</th>\n",
       "      <th>actionId</th>\n",
       "    </tr>\n",
       "  </thead>\n",
       "  <tbody>\n",
       "    <tr>\n",
       "      <th>20</th>\n",
       "      <td>32</td>\n",
       "      <td>PT09M14.00S</td>\n",
       "      <td>1</td>\n",
       "      <td>1610612744</td>\n",
       "      <td>GSW</td>\n",
       "      <td>201939</td>\n",
       "      <td>Curry</td>\n",
       "      <td>S. Curry</td>\n",
       "      <td>0</td>\n",
       "      <td>0</td>\n",
       "      <td>...</td>\n",
       "      <td>0</td>\n",
       "      <td>9</td>\n",
       "      <td>10</td>\n",
       "      <td>19</td>\n",
       "      <td>h</td>\n",
       "      <td>Curry Free Throw 1 of 1 (4 PTS)</td>\n",
       "      <td>Free Throw</td>\n",
       "      <td>Free Throw 1 of 1</td>\n",
       "      <td>1</td>\n",
       "      <td>21</td>\n",
       "    </tr>\n",
       "    <tr>\n",
       "      <th>382</th>\n",
       "      <td>530</td>\n",
       "      <td>PT10M19.00S</td>\n",
       "      <td>4</td>\n",
       "      <td>1610612744</td>\n",
       "      <td>GSW</td>\n",
       "      <td>203952</td>\n",
       "      <td>Wiggins</td>\n",
       "      <td>A. Wiggins</td>\n",
       "      <td>0</td>\n",
       "      <td>0</td>\n",
       "      <td>...</td>\n",
       "      <td>0</td>\n",
       "      <td></td>\n",
       "      <td></td>\n",
       "      <td>0</td>\n",
       "      <td>h</td>\n",
       "      <td>MISS Wiggins Free Throw 1 of 1</td>\n",
       "      <td>Free Throw</td>\n",
       "      <td>Free Throw 1 of 1</td>\n",
       "      <td>1</td>\n",
       "      <td>383</td>\n",
       "    </tr>\n",
       "    <tr>\n",
       "      <th>398</th>\n",
       "      <td>551</td>\n",
       "      <td>PT09M18.00S</td>\n",
       "      <td>4</td>\n",
       "      <td>1610612744</td>\n",
       "      <td>GSW</td>\n",
       "      <td>1630164</td>\n",
       "      <td>Wiseman</td>\n",
       "      <td>J. Wiseman</td>\n",
       "      <td>0</td>\n",
       "      <td>0</td>\n",
       "      <td>...</td>\n",
       "      <td>0</td>\n",
       "      <td>93</td>\n",
       "      <td>103</td>\n",
       "      <td>196</td>\n",
       "      <td>h</td>\n",
       "      <td>Wiseman Free Throw 1 of 1 (11 PTS)</td>\n",
       "      <td>Free Throw</td>\n",
       "      <td>Free Throw 1 of 1</td>\n",
       "      <td>1</td>\n",
       "      <td>399</td>\n",
       "    </tr>\n",
       "    <tr>\n",
       "      <th>446</th>\n",
       "      <td>616</td>\n",
       "      <td>PT04M21.00S</td>\n",
       "      <td>4</td>\n",
       "      <td>1610612743</td>\n",
       "      <td>DEN</td>\n",
       "      <td>203999</td>\n",
       "      <td>Jokic</td>\n",
       "      <td>N. Jokic</td>\n",
       "      <td>0</td>\n",
       "      <td>0</td>\n",
       "      <td>...</td>\n",
       "      <td>0</td>\n",
       "      <td>105</td>\n",
       "      <td>114</td>\n",
       "      <td>219</td>\n",
       "      <td>v</td>\n",
       "      <td>Jokic Free Throw 1 of 1 (22 PTS)</td>\n",
       "      <td>Free Throw</td>\n",
       "      <td>Free Throw 1 of 1</td>\n",
       "      <td>1</td>\n",
       "      <td>447</td>\n",
       "    </tr>\n",
       "  </tbody>\n",
       "</table>\n",
       "<p>4 rows × 22 columns</p>\n",
       "</div>"
      ],
      "text/plain": [
       "     actionNumber        clock  period      teamId teamTricode  personId  \\\n",
       "20             32  PT09M14.00S       1  1610612744         GSW    201939   \n",
       "382           530  PT10M19.00S       4  1610612744         GSW    203952   \n",
       "398           551  PT09M18.00S       4  1610612744         GSW   1630164   \n",
       "446           616  PT04M21.00S       4  1610612743         DEN    203999   \n",
       "\n",
       "    playerName playerNameI  xLegacy  yLegacy  ...  isFieldGoal scoreHome  \\\n",
       "20       Curry    S. Curry        0        0  ...            0         9   \n",
       "382    Wiggins  A. Wiggins        0        0  ...            0             \n",
       "398    Wiseman  J. Wiseman        0        0  ...            0        93   \n",
       "446      Jokic    N. Jokic        0        0  ...            0       105   \n",
       "\n",
       "     scoreAway pointsTotal location                         description  \\\n",
       "20          10          19        h     Curry Free Throw 1 of 1 (4 PTS)   \n",
       "382                      0        h      MISS Wiggins Free Throw 1 of 1   \n",
       "398        103         196        h  Wiseman Free Throw 1 of 1 (11 PTS)   \n",
       "446        114         219        v    Jokic Free Throw 1 of 1 (22 PTS)   \n",
       "\n",
       "     actionType            subType videoAvailable actionId  \n",
       "20   Free Throw  Free Throw 1 of 1              1       21  \n",
       "382  Free Throw  Free Throw 1 of 1              1      383  \n",
       "398  Free Throw  Free Throw 1 of 1              1      399  \n",
       "446  Free Throw  Free Throw 1 of 1              1      447  \n",
       "\n",
       "[4 rows x 22 columns]"
      ]
     },
     "execution_count": 15,
     "metadata": {},
     "output_type": "execute_result"
    }
   ],
   "source": [
    "score[score['actionType'] == 'Free Throw']"
   ]
  },
  {
   "cell_type": "code",
   "execution_count": 16,
   "metadata": {},
   "outputs": [
    {
     "data": {
      "text/html": [
       "<div>\n",
       "<style scoped>\n",
       "    .dataframe tbody tr th:only-of-type {\n",
       "        vertical-align: middle;\n",
       "    }\n",
       "\n",
       "    .dataframe tbody tr th {\n",
       "        vertical-align: top;\n",
       "    }\n",
       "\n",
       "    .dataframe thead th {\n",
       "        text-align: right;\n",
       "    }\n",
       "</style>\n",
       "<table border=\"1\" class=\"dataframe\">\n",
       "  <thead>\n",
       "    <tr style=\"text-align: right;\">\n",
       "      <th></th>\n",
       "      <th>actionNumber</th>\n",
       "      <th>clock</th>\n",
       "      <th>period</th>\n",
       "      <th>teamId</th>\n",
       "      <th>teamTricode</th>\n",
       "      <th>personId</th>\n",
       "      <th>playerName</th>\n",
       "      <th>playerNameI</th>\n",
       "      <th>xLegacy</th>\n",
       "      <th>yLegacy</th>\n",
       "      <th>...</th>\n",
       "      <th>isFieldGoal</th>\n",
       "      <th>scoreHome</th>\n",
       "      <th>scoreAway</th>\n",
       "      <th>pointsTotal</th>\n",
       "      <th>location</th>\n",
       "      <th>description</th>\n",
       "      <th>actionType</th>\n",
       "      <th>subType</th>\n",
       "      <th>videoAvailable</th>\n",
       "      <th>actionId</th>\n",
       "    </tr>\n",
       "  </thead>\n",
       "  <tbody>\n",
       "    <tr>\n",
       "      <th>395</th>\n",
       "      <td>545</td>\n",
       "      <td>PT09M18.00S</td>\n",
       "      <td>4</td>\n",
       "      <td>1610612744</td>\n",
       "      <td>GSW</td>\n",
       "      <td>1630164</td>\n",
       "      <td>Wiseman</td>\n",
       "      <td>J. Wiseman</td>\n",
       "      <td>-34</td>\n",
       "      <td>16</td>\n",
       "      <td>...</td>\n",
       "      <td>1</td>\n",
       "      <td>92</td>\n",
       "      <td>103</td>\n",
       "      <td>195</td>\n",
       "      <td>h</td>\n",
       "      <td>Wiseman 4' Layup (10 PTS) (Wiggins 3 AST)</td>\n",
       "      <td>Made Shot</td>\n",
       "      <td>Layup Shot</td>\n",
       "      <td>1</td>\n",
       "      <td>396</td>\n",
       "    </tr>\n",
       "    <tr>\n",
       "      <th>398</th>\n",
       "      <td>551</td>\n",
       "      <td>PT09M18.00S</td>\n",
       "      <td>4</td>\n",
       "      <td>1610612744</td>\n",
       "      <td>GSW</td>\n",
       "      <td>1630164</td>\n",
       "      <td>Wiseman</td>\n",
       "      <td>J. Wiseman</td>\n",
       "      <td>0</td>\n",
       "      <td>0</td>\n",
       "      <td>...</td>\n",
       "      <td>0</td>\n",
       "      <td>93</td>\n",
       "      <td>103</td>\n",
       "      <td>196</td>\n",
       "      <td>h</td>\n",
       "      <td>Wiseman Free Throw 1 of 1 (11 PTS)</td>\n",
       "      <td>Free Throw</td>\n",
       "      <td>Free Throw 1 of 1</td>\n",
       "      <td>1</td>\n",
       "      <td>399</td>\n",
       "    </tr>\n",
       "  </tbody>\n",
       "</table>\n",
       "<p>2 rows × 22 columns</p>\n",
       "</div>"
      ],
      "text/plain": [
       "     actionNumber        clock  period      teamId teamTricode  personId  \\\n",
       "395           545  PT09M18.00S       4  1610612744         GSW   1630164   \n",
       "398           551  PT09M18.00S       4  1610612744         GSW   1630164   \n",
       "\n",
       "    playerName playerNameI  xLegacy  yLegacy  ...  isFieldGoal scoreHome  \\\n",
       "395    Wiseman  J. Wiseman      -34       16  ...            1        92   \n",
       "398    Wiseman  J. Wiseman        0        0  ...            0        93   \n",
       "\n",
       "     scoreAway pointsTotal location  \\\n",
       "395        103         195        h   \n",
       "398        103         196        h   \n",
       "\n",
       "                                   description  actionType            subType  \\\n",
       "395  Wiseman 4' Layup (10 PTS) (Wiggins 3 AST)   Made Shot         Layup Shot   \n",
       "398         Wiseman Free Throw 1 of 1 (11 PTS)  Free Throw  Free Throw 1 of 1   \n",
       "\n",
       "    videoAvailable actionId  \n",
       "395              1      396  \n",
       "398              1      399  \n",
       "\n",
       "[2 rows x 22 columns]"
      ]
     },
     "execution_count": 16,
     "metadata": {},
     "output_type": "execute_result"
    }
   ],
   "source": [
    "score[score['clock'] == 'PT09M18.00S']"
   ]
  },
  {
   "cell_type": "markdown",
   "metadata": {},
   "source": [
    "### Notes about **and-1** in these data\n",
    "If the **and-1** opportunity is a miss, then `pointsTotal = 0` in the respective FT row."
   ]
  },
  {
   "cell_type": "code",
   "execution_count": 17,
   "metadata": {},
   "outputs": [
    {
     "name": "stdout",
     "output_type": "stream",
     "text": [
      "Period:  3 \tSeconds:  7200\n",
      "Clock:  ['07', '11', '00'] \tSeconds:  431.0\n",
      "Game seconds:  7631.0\n"
     ]
    }
   ],
   "source": [
    "# Checking to see how to best work through time format\n",
    "import re\n",
    "score[['clock', 'period']].tail(5)\n",
    "dig = re.compile('[0-9]{2}')\n",
    "\n",
    "# Getting clock/period value at row 100\n",
    "clock = dig.findall(score.iloc[100].clock)\n",
    "period = score.iloc[100].period\n",
    "\n",
    "# Conversion into overall seconds\n",
    "period_seconds = (period - 1) * 3600\n",
    "clock_seconds = int(clock[0]) * 60 + int(clock[1]) + int(clock[2]) / 100\n",
    "game_seconds = period_seconds + clock_seconds\n",
    "\n",
    "# By converting to seconds, I can get exact period/gameclock times through\n",
    "# a simple computation. This also supports overtime functions (but might need to\n",
    "# be implemented via dictionary)\n",
    "print(\"Period: \", period, \"\\tSeconds: \", period_seconds)\n",
    "print(\"Clock: \", clock, \"\\tSeconds: \", clock_seconds)\n",
    "print(\"Game seconds: \", game_seconds)\n"
   ]
  },
  {
   "cell_type": "code",
   "execution_count": 18,
   "metadata": {},
   "outputs": [],
   "source": [
    "schedule_page = requests.get('https://www.nba.com/schedule?cal=0&pd=false&region=1')\n",
    "schedule_soup = BeautifulSoup(schedule_page.text, 'lxml')\n",
    "links = schedule_soup.find_all(\"a\", attr={'href': re.compile(\"\\/game\\/[a-z]{3}-vs-[a-z]{3}-[0-9]{10}\")})\n"
   ]
  },
  {
   "cell_type": "code",
   "execution_count": 19,
   "metadata": {},
   "outputs": [
    {
     "name": "stdout",
     "output_type": "stream",
     "text": [
      "/games\n",
      "/games\n",
      "/stats/tools/media-central-game-stats\n",
      "https://nbagameworn.nba.com/iSynApp/showHomePage.action?sid=1101561\n"
     ]
    }
   ],
   "source": [
    "import time\n",
    "page = requests.get('https://www.nba.com/schedule')\n",
    "time.sleep(5)\n",
    "soup = BeautifulSoup(page.text, 'html.parser')\n",
    "for url in schedule_soup.find_all(href=re.compile(\".*game.*\")):\n",
    "  print(url['href'])"
   ]
  },
  {
   "cell_type": "code",
   "execution_count": 26,
   "metadata": {},
   "outputs": [],
   "source": [
    "headers = {\n",
    "    'Access-Control-Allow-Origin': '*',\n",
    "    'Access-Control-Allow-Methods': 'GET',\n",
    "    'Access-Control-Allow-Headers': 'Content-Type',\n",
    "    'Access-Control-Max-Age': '3600',\n",
    "    'User-Agent': 'Mozilla/5.0 (X11; Ubuntu; Linux x86_64; rv:52.0) Gecko/20100101 Firefox/52.0'\n",
    "    }\n",
    "  \n",
    "url = \"https://www.nba.com/schedule?bc=LP&cal=4&pd=false&region=1\"\n",
    "req = requests.get(url, headers)\n",
    "soup = BeautifulSoup(req.content, \"html.parser\")\n",
    "page = soup.prettify()\n",
    "\n",
    "with open(\"schedulepage.html\", \"w\") as outfile:\n",
    "  outfile.write(soup.text)"
   ]
  },
  {
   "cell_type": "markdown",
   "metadata": {},
   "source": [
    "# Game ID\n",
    "After a few hours trying to figure out if I could effectively scrape urls from the NBA schedule page, I learned the following...\n",
    "\n",
    "Any NBA game page can be accessed through `nba.com/game/[10-digit gameID]`.\n",
    "\n",
    "This year's numbers run from `0022200001` to `0022201230` for the 1,230 regular season NBA games played each year."
   ]
  },
  {
   "cell_type": "code",
   "execution_count": 30,
   "metadata": {},
   "outputs": [
    {
     "data": {
      "text/plain": [
       "'https://www.nba.com/game/0022200121/game-charts'"
      ]
     },
     "execution_count": 30,
     "metadata": {},
     "output_type": "execute_result"
    }
   ],
   "source": [
    "url_start = 'https://www.nba.com/game/00'\n",
    "url_end = '/game-charts'\n",
    "game_num = 22200001\n",
    "total_games = 1230\n",
    "url_list = []\n",
    "\n",
    "for game in range(total_games):\n",
    "  req_url = url_start + str(game_num + game) + url_end\n",
    "  url_list.append(req_url)\n",
    "\n",
    "url_list[120]"
   ]
  },
  {
   "cell_type": "code",
   "execution_count": 38,
   "metadata": {},
   "outputs": [
    {
     "data": {
      "text/plain": [
       "datetime.date(2022, 11, 17)"
      ]
     },
     "execution_count": 38,
     "metadata": {},
     "output_type": "execute_result"
    }
   ],
   "source": [
    "import datetime\n",
    "datetime.date.today() - datetime.timedelta(days=1)"
   ]
  },
  {
   "cell_type": "code",
   "execution_count": 43,
   "metadata": {},
   "outputs": [
    {
     "data": {
      "text/plain": [
       "'0005'"
      ]
     },
     "execution_count": 43,
     "metadata": {},
     "output_type": "execute_result"
    }
   ],
   "source": [
    "\"{0:0=4d}\".format(5)"
   ]
  },
  {
   "cell_type": "code",
   "execution_count": 49,
   "metadata": {},
   "outputs": [
    {
     "data": {
      "text/plain": [
       "{'20.234.198.245:8080'}"
      ]
     },
     "execution_count": 49,
     "metadata": {},
     "output_type": "execute_result"
    }
   ],
   "source": [
    "import requests\n",
    " \n",
    "# use to parse html text\n",
    "from lxml.html import fromstring \n",
    "from itertools import cycle\n",
    "import traceback\n",
    " \n",
    " \n",
    "def to_get_proxies():\n",
    "    # website to get free proxies\n",
    "    url = 'https://free-proxy-list.net/' \n",
    " \n",
    "    response = requests.get(url)\n",
    " \n",
    "    parser = fromstring(response.text)\n",
    "    # using a set to avoid duplicate IP entries.\n",
    "    proxies = set() \n",
    " \n",
    "    for i in parser.xpath('//tbody/tr')[:10]:\n",
    " \n",
    "        # to check if the corresponding IP is of type HTTPS\n",
    "        if i.xpath('.//td[7][contains(text(),\"yes\")]'):\n",
    " \n",
    "            # Grabbing IP and corresponding PORT\n",
    "            proxy = \":\".join([i.xpath('.//td[1]/text()')[0],\n",
    "                              i.xpath('.//td[2]/text()')[0]])\n",
    " \n",
    "            proxies.add(proxy)\n",
    "        return proxies\n",
    "\n",
    "proxy_list = to_get_proxies()\n",
    "proxy_list"
   ]
  },
  {
   "cell_type": "code",
   "execution_count": 5,
   "metadata": {},
   "outputs": [
    {
     "data": {
      "text/plain": [
       "0"
      ]
     },
     "execution_count": 5,
     "metadata": {},
     "output_type": "execute_result"
    }
   ],
   "source": [
    "import json\n",
    "tj = json.loads(\"[]\")\n",
    "len(tj)"
   ]
  }
 ],
 "metadata": {
  "kernelspec": {
   "display_name": "Python 3.10.4 64-bit",
   "language": "python",
   "name": "python3"
  },
  "language_info": {
   "codemirror_mode": {
    "name": "ipython",
    "version": 3
   },
   "file_extension": ".py",
   "mimetype": "text/x-python",
   "name": "python",
   "nbconvert_exporter": "python",
   "pygments_lexer": "ipython3",
   "version": "3.10.4"
  },
  "orig_nbformat": 4,
  "vscode": {
   "interpreter": {
    "hash": "aee8b7b246df8f9039afb4144a1f6fd8d2ca17a180786b69acc140d282b71a49"
   }
  }
 },
 "nbformat": 4,
 "nbformat_minor": 2
}
